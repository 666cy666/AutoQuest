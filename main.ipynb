{
 "cells": [
  {
   "cell_type": "code",
   "execution_count": 1,
   "metadata": {
    "collapsed": true,
    "pycharm": {
     "name": "#%%\n"
    }
   },
   "outputs": [],
   "source": [
    "from Util.drissionpage_util import drissionPage"
   ]
  },
  {
   "cell_type": "code",
   "execution_count": 2,
   "metadata": {
    "collapsed": false,
    "pycharm": {
     "name": "#%%\n"
    }
   },
   "outputs": [
    {
     "data": {
      "text/plain": "True"
     },
     "execution_count": 2,
     "metadata": {},
     "output_type": "execute_result"
    }
   ],
   "source": [
    "url = 'https://www.wjx.cn/vm/tL4FoDX.aspx'\n",
    "drissionPage.driver.get(url)"
   ]
  },
  {
   "cell_type": "code",
   "execution_count": 3,
   "metadata": {
    "collapsed": false,
    "pycharm": {
     "name": "#%%\n"
    }
   },
   "outputs": [
    {
     "data": {
      "text/plain": "[<ChromiumElement div class='field ui-field-contain' topic='1' id='div1' req='1' data-role='fieldcontain' type='4'>,\n <ChromiumElement div class='field ui-field-contain' topic='2' id='div2' req='1' data-role='fieldcontain' type='3'>,\n <ChromiumElement div class='field ui-field-contain' topic='3' id='div3' req='1' data-role='fieldcontain' type='3'>,\n <ChromiumElement div class='field ui-field-contain' topic='4' id='div4' req='1' data-role='fieldcontain' type='3'>,\n <ChromiumElement div class='field ui-field-contain' topic='5' id='div5' req='1' data-role='fieldcontain' type='4'>,\n <ChromiumElement div class='field ui-field-contain' topic='6' id='div6' req='1' data-role='fieldcontain' type='3'>,\n <ChromiumElement div class='field ui-field-contain' topic='7' id='div7' req='1' data-role='fieldcontain' type='3'>,\n <ChromiumElement div class='field ui-field-contain' topic='8' id='div8' req='1' data-role='fieldcontain' type='4'>,\n <ChromiumElement div class='field ui-field-contain' topic='9' id='div9' req='1' data-role='fieldcontain' type='4'>,\n <ChromiumElement div class='field ui-field-contain' topic='10' id='div10' req='1' data-role='fieldcontain' type='4'>]"
     },
     "execution_count": 3,
     "metadata": {},
     "output_type": "execute_result"
    }
   ],
   "source": [
    "from DrissionPage._functions.by import By\n",
    "topic_element_list = drissionPage.get_elements(xpath_kind=By.CLASS_NAME, xpath='field ui-field-contain')\n",
    "topic_element_list"
   ]
  },
  {
   "cell_type": "code",
   "execution_count": 7,
   "outputs": [
    {
     "name": "stdout",
     "output_type": "stream",
     "text": [
      "[{'topic-answer-list': [{'input': False, 'text': 'A. 法国电影、电视剧', 'weight': 25},\n",
      "                        {'input': False, 'text': 'B. 法语书籍、报刊', 'weight': 25},\n",
      "                        {'input': False, 'text': 'C. 社交媒体平台', 'weight': 25},\n",
      "                        {'input': False,\n",
      "                         'text': 'D. 学校法语或法国文化课程',\n",
      "                         'weight': 25}],\n",
      "  'topic-title': '您通过哪些途径获取法国文化相关信息?（可多选）【多选题】',\n",
      "  'topic-type': '4'},\n",
      " {'topic-answer-list': [{'input': False, 'text': 'A. 经常参与', 'weight': 25},\n",
      "                        {'input': False, 'text': 'B. 偶尔参与', 'weight': 25},\n",
      "                        {'input': False, 'text': 'C. 听说过但未参与', 'weight': 25},\n",
      "                        {'input': False, 'text': 'D. 从未听说过', 'weight': 25}],\n",
      "  'topic-title': '您参与过中国面向法国举办的文化推广活动吗?',\n",
      "  'topic-type': '3'},\n",
      " {'topic-answer-list': [{'input': False, 'text': 'A. 中医药文化', 'weight': 25},\n",
      "                        {'input': False, 'text': 'B. 武术文化', 'weight': 25},\n",
      "                        {'input': False, 'text': 'C. 传统节日习俗', 'weight': 25},\n",
      "                        {'input': False, 'text': 'D. 中国饮食文化', 'weight': 25}],\n",
      "  'topic-title': '在您看来，以下中国文化元素，法国民众对哪项最感兴趣?',\n",
      "  'topic-type': '3'},\n",
      " {'topic-answer-list': [{'input': False, 'text': 'A. 每月至少一次', 'weight': 25},\n",
      "                        {'input': False,\n",
      "                         'text': 'B. 每季度 1 - 2 次',\n",
      "                         'weight': 25},\n",
      "                        {'input': False, 'text': 'C. 每年 1 - 2 次', 'weight': 25},\n",
      "                        {'input': False, 'text': 'D. 几乎不参加', 'weight': 25}],\n",
      "  'topic-title': '您参加中法文化交流活动的频率是?',\n",
      "  'topic-type': '3'},\n",
      " {'topic-answer-list': [{'input': False, 'text': 'A. 丰富业余生活', 'weight': 20},\n",
      "                        {'input': False, 'text': 'B. 深入了解法国文化', 'weight': 20},\n",
      "                        {'input': False, 'text': 'C. 助力中法友好往来', 'weight': 20},\n",
      "                        {'input': False, 'text': 'D. 提升自身文化素养', 'weight': 20},\n",
      "                        {'input': False, 'text': 'E. 活动有吸引力', 'weight': 20}],\n",
      "  'topic-title': '您参与中法文化交流活动的主要动机是什么?（可多选）【多选题】',\n",
      "  'topic-type': '4'},\n",
      " {'topic-answer-list': [{'input': False,\n",
      "                         'text': 'A. 非常丰富，能满足多样化需求',\n",
      "                         'weight': 25},\n",
      "                        {'input': False,\n",
      "                         'text': 'B. 比较丰富，还有提升空间',\n",
      "                         'weight': 25},\n",
      "                        {'input': False, 'text': 'C. 内容较单一', 'weight': 25},\n",
      "                        {'input': False, 'text': 'D. 没使用过，不了解', 'weight': 25}],\n",
      "  'topic-title': '您觉得当下中法文化线上交流平台内容丰富度如何?',\n",
      "  'topic-type': '3'},\n",
      " {'topic-answer-list': [{'input': False,\n",
      "                         'text': 'A. 成效显著，极大促进了文化融合',\n",
      "                         'weight': 25},\n",
      "                        {'input': False,\n",
      "                         'text': 'B. 有一定成效，但还有提升空间',\n",
      "                         'weight': 25},\n",
      "                        {'input': False, 'text': 'C. 成效不明显', 'weight': 25},\n",
      "                        {'input': False, 'text': 'D. 难以判断', 'weight': 25}],\n",
      "  'topic-title': '在您看来，中法文化交流活动在促进双方文化融合方面成效如何?',\n",
      "  'topic-type': '3'},\n",
      " {'topic-answer-list': [{'input': False, 'text': 'A. 中法乡村文化交流', 'weight': 25},\n",
      "                        {'input': False, 'text': 'B. 中法青年科技文化交流', 'weight': 25},\n",
      "                        {'input': False, 'text': 'C. 中法音乐创作交流营', 'weight': 25},\n",
      "                        {'input': False,\n",
      "                         'text': 'D. 中法历史遗迹保护交流',\n",
      "                         'weight': 25}],\n",
      "  'topic-title': '您期望未来中法文化交流增加哪些活动类型?（可多选）【多选题】',\n",
      "  'topic-type': '4'},\n",
      " {'topic-answer-list': [{'input': False, 'text': 'A. 组织中法民间艺术赛事', 'weight': 25},\n",
      "                        {'input': False, 'text': 'B. 开展中法家庭互访活动', 'weight': 25},\n",
      "                        {'input': False,\n",
      "                         'text': 'C. 搭建中法文化交流线上社区',\n",
      "                         'weight': 25},\n",
      "                        {'input': False,\n",
      "                         'text': 'D. 举办中法文化交流公益讲座',\n",
      "                         'weight': 25}],\n",
      "  'topic-title': '您认为推动中法文化交流，民间组织应发挥什么作用?（可多选）【多选题】',\n",
      "  'topic-type': '4'},\n",
      " {'topic-answer-list': [{'input': False,\n",
      "                         'text': 'A. 优化文化交流活动宣传推广',\n",
      "                         'weight': 25},\n",
      "                        {'input': False, 'text': 'B. 加大政府资金扶持力度', 'weight': 25},\n",
      "                        {'input': False, 'text': 'C. 促进文化产业深度合作', 'weight': 25},\n",
      "                        {'input': False,\n",
      "                         'text': 'D. 培养更多中法文化交流专业人才',\n",
      "                         'weight': 25}],\n",
      "  'topic-title': '对于提升中法文化交流效果，您有哪些其他建议?（可多选）【多选题】',\n",
      "  'topic-type': '4'}]\n"
     ]
    }
   ],
   "source": [
    "import random\n",
    "from pprint import pprint\n",
    "topic_data_list = []\n",
    "for topic in topic_element_list:\n",
    "    topic_type = topic.attrs[\"type\"]\n",
    "    topic_answer_list = []\n",
    "    topic_title = drissionPage.get_element_text(father_element=topic, xpath_kind=By.CLASS_NAME, xpath='topichtml')\n",
    "    topic_answers = drissionPage.get_elements(father_element=topic, xpath_kind=By.XPATH, xpath='//div[@class=\"ui-controlgroup column1\"]/div')\n",
    "    # print(len(topic_answers))\n",
    "    all_weight = 100\n",
    "    true_count = 0\n",
    "    for topic_answer in topic_answers:\n",
    "        # print(topic_answer)\n",
    "        # x = topic_answer.eles((By.XPATH,'./*'))\n",
    "        # print(len(x))\n",
    "        element = topic_answer.ele((By.CLASS_NAME,'label'))\n",
    "        text = element.text\n",
    "        answer = {\n",
    "            \"text\": text,\n",
    "            \"weight\": 0,\n",
    "            \"input\": False,\n",
    "        }\n",
    "        if len(topic_answer.eles((By.XPATH,'./*'))) > 2:\n",
    "            # print(\"填空题\")\n",
    "            weight = random.randint(1, 5)\n",
    "            answer[\"weight\"] = weight\n",
    "            answer[\"input\"] = True\n",
    "            answer[\"input-text\"] = ['无']\n",
    "            all_weight -= weight\n",
    "            true_count += 1\n",
    "        topic_answer_list.append(answer)\n",
    "    # print(topic_answer_list)\n",
    "    aver_weight = int(round(all_weight / (len(topic_answers) - true_count), 2))\n",
    "    for answer in topic_answer_list:\n",
    "        if not answer[\"input\"]:\n",
    "            answer[\"weight\"] = aver_weight\n",
    "    # print()\n",
    "    topic_data = {\n",
    "        \"topic-type\": topic_type,\n",
    "        \"topic-title\": topic_title,\n",
    "        \"topic-answer-list\": topic_answer_list\n",
    "    }\n",
    "    topic_data_list.append(topic_data)\n",
    "pprint(topic_data_list)"
   ],
   "metadata": {
    "collapsed": false,
    "pycharm": {
     "name": "#%%\n"
    }
   }
  },
  {
   "cell_type": "code",
   "execution_count": 4,
   "outputs": [
    {
     "ename": "NameError",
     "evalue": "name 'topic_data_list' is not defined",
     "output_type": "error",
     "traceback": [
      "\u001B[1;31m---------------------------------------------------------------------------\u001B[0m",
      "\u001B[1;31mNameError\u001B[0m                                 Traceback (most recent call last)",
      "Cell \u001B[1;32mIn[4], line 4\u001B[0m\n\u001B[0;32m      2\u001B[0m \u001B[38;5;66;03m# 截取url最后的字符串\u001B[39;00m\n\u001B[0;32m      3\u001B[0m name \u001B[38;5;241m=\u001B[39m url\u001B[38;5;241m.\u001B[39msplit(\u001B[38;5;124m'\u001B[39m\u001B[38;5;124m/\u001B[39m\u001B[38;5;124m'\u001B[39m)[\u001B[38;5;241m-\u001B[39m\u001B[38;5;241m1\u001B[39m]\u001B[38;5;241m.\u001B[39msplit(\u001B[38;5;124m'\u001B[39m\u001B[38;5;124m.\u001B[39m\u001B[38;5;124m'\u001B[39m)[\u001B[38;5;241m0\u001B[39m]\n\u001B[1;32m----> 4\u001B[0m save_label_json(topic_data_list, name)\n",
      "\u001B[1;31mNameError\u001B[0m: name 'topic_data_list' is not defined"
     ]
    }
   ],
   "source": [
    "from Util.FileUtil import save_label_json\n",
    "# 截取url最后的字符串\n",
    "name = url.split('/')[-1].split('.')[0]\n",
    "save_label_json(topic_data_list, name)"
   ],
   "metadata": {
    "collapsed": false,
    "pycharm": {
     "name": "#%%\n"
    }
   }
  },
  {
   "cell_type": "code",
   "execution_count": 8,
   "outputs": [
    {
     "name": "stdout",
     "output_type": "stream",
     "text": [
      "Element not found: layui-layer-btn1\n",
      "0 {'topic-type': '4', 'topic-title': '您通过哪些途径获取法国文化相关信息?（可多选）【多选题】', 'topic-answer-list': [{'text': 'A. 法国电影、电视剧', 'weight': 25, 'input': False}, {'text': 'B. 法语书籍、报刊', 'weight': 25, 'input': False}, {'text': 'C. 社交媒体平台', 'weight': 25, 'input': False}, {'text': 'D. 学校法语或法国文化课程', 'weight': 25, 'input': False}]}\n",
      "当前题目:您通过哪些途径获取法国文化相关信息?（可多选）【多选题】\n",
      "多选随机选择答案:[0, 1]\n",
      "1 {'topic-type': '3', 'topic-title': '您参与过中国面向法国举办的文化推广活动吗?', 'topic-answer-list': [{'text': 'A. 经常参与', 'weight': 25, 'input': False}, {'text': 'B. 偶尔参与', 'weight': 25, 'input': False}, {'text': 'C. 听说过但未参与', 'weight': 25, 'input': False}, {'text': 'D. 从未听说过', 'weight': 25, 'input': False}]}\n",
      "当前题目:您参与过中国面向法国举办的文化推广活动吗?\n",
      "单选随机选择答案:2\n",
      "2 {'topic-type': '3', 'topic-title': '在您看来，以下中国文化元素，法国民众对哪项最感兴趣?', 'topic-answer-list': [{'text': 'A. 中医药文化', 'weight': 25, 'input': False}, {'text': 'B. 武术文化', 'weight': 25, 'input': False}, {'text': 'C. 传统节日习俗', 'weight': 25, 'input': False}, {'text': 'D. 中国饮食文化', 'weight': 25, 'input': False}]}\n",
      "当前题目:在您看来，以下中国文化元素，法国民众对哪项最感兴趣?\n",
      "单选随机选择答案:3\n",
      "3 {'topic-type': '3', 'topic-title': '您参加中法文化交流活动的频率是?', 'topic-answer-list': [{'text': 'A. 每月至少一次', 'weight': 25, 'input': False}, {'text': 'B. 每季度 1 - 2 次', 'weight': 25, 'input': False}, {'text': 'C. 每年 1 - 2 次', 'weight': 25, 'input': False}, {'text': 'D. 几乎不参加', 'weight': 25, 'input': False}]}\n",
      "当前题目:您参加中法文化交流活动的频率是?\n",
      "单选随机选择答案:3\n",
      "4 {'topic-type': '4', 'topic-title': '您参与中法文化交流活动的主要动机是什么?（可多选）【多选题】', 'topic-answer-list': [{'text': 'A. 丰富业余生活', 'weight': 20, 'input': False}, {'text': 'B. 深入了解法国文化', 'weight': 20, 'input': False}, {'text': 'C. 助力中法友好往来', 'weight': 20, 'input': False}, {'text': 'D. 提升自身文化素养', 'weight': 20, 'input': False}, {'text': 'E. 活动有吸引力', 'weight': 20, 'input': False}]}\n",
      "当前题目:您参与中法文化交流活动的主要动机是什么?（可多选）【多选题】\n",
      "多选随机选择答案:[3]\n",
      "5 {'topic-type': '3', 'topic-title': '您觉得当下中法文化线上交流平台内容丰富度如何?', 'topic-answer-list': [{'text': 'A. 非常丰富，能满足多样化需求', 'weight': 25, 'input': False}, {'text': 'B. 比较丰富，还有提升空间', 'weight': 25, 'input': False}, {'text': 'C. 内容较单一', 'weight': 25, 'input': False}, {'text': 'D. 没使用过，不了解', 'weight': 25, 'input': False}]}\n",
      "当前题目:您觉得当下中法文化线上交流平台内容丰富度如何?\n",
      "单选随机选择答案:3\n",
      "6 {'topic-type': '3', 'topic-title': '在您看来，中法文化交流活动在促进双方文化融合方面成效如何?', 'topic-answer-list': [{'text': 'A. 成效显著，极大促进了文化融合', 'weight': 25, 'input': False}, {'text': 'B. 有一定成效，但还有提升空间', 'weight': 25, 'input': False}, {'text': 'C. 成效不明显', 'weight': 25, 'input': False}, {'text': 'D. 难以判断', 'weight': 25, 'input': False}]}\n",
      "当前题目:在您看来，中法文化交流活动在促进双方文化融合方面成效如何?\n",
      "单选随机选择答案:3\n",
      "7 {'topic-type': '4', 'topic-title': '您期望未来中法文化交流增加哪些活动类型?（可多选）【多选题】', 'topic-answer-list': [{'text': 'A. 中法乡村文化交流', 'weight': 25, 'input': False}, {'text': 'B. 中法青年科技文化交流', 'weight': 25, 'input': False}, {'text': 'C. 中法音乐创作交流营', 'weight': 25, 'input': False}, {'text': 'D. 中法历史遗迹保护交流', 'weight': 25, 'input': False}]}\n",
      "当前题目:您期望未来中法文化交流增加哪些活动类型?（可多选）【多选题】\n",
      "多选随机选择答案:[0]\n",
      "8 {'topic-type': '4', 'topic-title': '您认为推动中法文化交流，民间组织应发挥什么作用?（可多选）【多选题】', 'topic-answer-list': [{'text': 'A. 组织中法民间艺术赛事', 'weight': 25, 'input': False}, {'text': 'B. 开展中法家庭互访活动', 'weight': 25, 'input': False}, {'text': 'C. 搭建中法文化交流线上社区', 'weight': 25, 'input': False}, {'text': 'D. 举办中法文化交流公益讲座', 'weight': 25, 'input': False}]}\n",
      "当前题目:您认为推动中法文化交流，民间组织应发挥什么作用?（可多选）【多选题】\n",
      "多选随机选择答案:[1]\n",
      "9 {'topic-type': '4', 'topic-title': '对于提升中法文化交流效果，您有哪些其他建议?（可多选）【多选题】', 'topic-answer-list': [{'text': 'A. 优化文化交流活动宣传推广', 'weight': 25, 'input': False}, {'text': 'B. 加大政府资金扶持力度', 'weight': 25, 'input': False}, {'text': 'C. 促进文化产业深度合作', 'weight': 25, 'input': False}, {'text': 'D. 培养更多中法文化交流专业人才', 'weight': 25, 'input': False}]}\n",
      "当前题目:对于提升中法文化交流效果，您有哪些其他建议?（可多选）【多选题】\n",
      "多选随机选择答案:[1, 3]\n",
      "Element not found: rectMask\n",
      "Element not found: divdsc\n",
      "第10次运行失败,重新运行\n",
      "Element not found: layui-layer-btn1\n",
      "0 {'topic-type': '4', 'topic-title': '您通过哪些途径获取法国文化相关信息?（可多选）【多选题】', 'topic-answer-list': [{'text': 'A. 法国电影、电视剧', 'weight': 25, 'input': False}, {'text': 'B. 法语书籍、报刊', 'weight': 25, 'input': False}, {'text': 'C. 社交媒体平台', 'weight': 25, 'input': False}, {'text': 'D. 学校法语或法国文化课程', 'weight': 25, 'input': False}]}\n",
      "当前题目:您通过哪些途径获取法国文化相关信息?（可多选）【多选题】\n",
      "多选随机选择答案:[0, 3]\n",
      "1 {'topic-type': '3', 'topic-title': '您参与过中国面向法国举办的文化推广活动吗?', 'topic-answer-list': [{'text': 'A. 经常参与', 'weight': 25, 'input': False}, {'text': 'B. 偶尔参与', 'weight': 25, 'input': False}, {'text': 'C. 听说过但未参与', 'weight': 25, 'input': False}, {'text': 'D. 从未听说过', 'weight': 25, 'input': False}]}\n",
      "当前题目:您参与过中国面向法国举办的文化推广活动吗?\n",
      "单选随机选择答案:0\n",
      "2 {'topic-type': '3', 'topic-title': '在您看来，以下中国文化元素，法国民众对哪项最感兴趣?', 'topic-answer-list': [{'text': 'A. 中医药文化', 'weight': 25, 'input': False}, {'text': 'B. 武术文化', 'weight': 25, 'input': False}, {'text': 'C. 传统节日习俗', 'weight': 25, 'input': False}, {'text': 'D. 中国饮食文化', 'weight': 25, 'input': False}]}\n",
      "当前题目:在您看来，以下中国文化元素，法国民众对哪项最感兴趣?\n",
      "单选随机选择答案:0\n",
      "3 {'topic-type': '3', 'topic-title': '您参加中法文化交流活动的频率是?', 'topic-answer-list': [{'text': 'A. 每月至少一次', 'weight': 25, 'input': False}, {'text': 'B. 每季度 1 - 2 次', 'weight': 25, 'input': False}, {'text': 'C. 每年 1 - 2 次', 'weight': 25, 'input': False}, {'text': 'D. 几乎不参加', 'weight': 25, 'input': False}]}\n",
      "当前题目:您参加中法文化交流活动的频率是?\n",
      "单选随机选择答案:1\n",
      "4 {'topic-type': '4', 'topic-title': '您参与中法文化交流活动的主要动机是什么?（可多选）【多选题】', 'topic-answer-list': [{'text': 'A. 丰富业余生活', 'weight': 20, 'input': False}, {'text': 'B. 深入了解法国文化', 'weight': 20, 'input': False}, {'text': 'C. 助力中法友好往来', 'weight': 20, 'input': False}, {'text': 'D. 提升自身文化素养', 'weight': 20, 'input': False}, {'text': 'E. 活动有吸引力', 'weight': 20, 'input': False}]}\n",
      "当前题目:您参与中法文化交流活动的主要动机是什么?（可多选）【多选题】\n",
      "多选随机选择答案:[0, 1]\n",
      "5 {'topic-type': '3', 'topic-title': '您觉得当下中法文化线上交流平台内容丰富度如何?', 'topic-answer-list': [{'text': 'A. 非常丰富，能满足多样化需求', 'weight': 25, 'input': False}, {'text': 'B. 比较丰富，还有提升空间', 'weight': 25, 'input': False}, {'text': 'C. 内容较单一', 'weight': 25, 'input': False}, {'text': 'D. 没使用过，不了解', 'weight': 25, 'input': False}]}\n",
      "当前题目:您觉得当下中法文化线上交流平台内容丰富度如何?\n",
      "单选随机选择答案:1\n",
      "6 {'topic-type': '3', 'topic-title': '在您看来，中法文化交流活动在促进双方文化融合方面成效如何?', 'topic-answer-list': [{'text': 'A. 成效显著，极大促进了文化融合', 'weight': 25, 'input': False}, {'text': 'B. 有一定成效，但还有提升空间', 'weight': 25, 'input': False}, {'text': 'C. 成效不明显', 'weight': 25, 'input': False}, {'text': 'D. 难以判断', 'weight': 25, 'input': False}]}\n",
      "当前题目:在您看来，中法文化交流活动在促进双方文化融合方面成效如何?\n",
      "单选随机选择答案:0\n",
      "7 {'topic-type': '4', 'topic-title': '您期望未来中法文化交流增加哪些活动类型?（可多选）【多选题】', 'topic-answer-list': [{'text': 'A. 中法乡村文化交流', 'weight': 25, 'input': False}, {'text': 'B. 中法青年科技文化交流', 'weight': 25, 'input': False}, {'text': 'C. 中法音乐创作交流营', 'weight': 25, 'input': False}, {'text': 'D. 中法历史遗迹保护交流', 'weight': 25, 'input': False}]}\n",
      "当前题目:您期望未来中法文化交流增加哪些活动类型?（可多选）【多选题】\n",
      "多选随机选择答案:[2, 3]\n",
      "8 {'topic-type': '4', 'topic-title': '您认为推动中法文化交流，民间组织应发挥什么作用?（可多选）【多选题】', 'topic-answer-list': [{'text': 'A. 组织中法民间艺术赛事', 'weight': 25, 'input': False}, {'text': 'B. 开展中法家庭互访活动', 'weight': 25, 'input': False}, {'text': 'C. 搭建中法文化交流线上社区', 'weight': 25, 'input': False}, {'text': 'D. 举办中法文化交流公益讲座', 'weight': 25, 'input': False}]}\n",
      "当前题目:您认为推动中法文化交流，民间组织应发挥什么作用?（可多选）【多选题】\n",
      "多选随机选择答案:[0, 2]\n",
      "9 {'topic-type': '4', 'topic-title': '对于提升中法文化交流效果，您有哪些其他建议?（可多选）【多选题】', 'topic-answer-list': [{'text': 'A. 优化文化交流活动宣传推广', 'weight': 25, 'input': False}, {'text': 'B. 加大政府资金扶持力度', 'weight': 25, 'input': False}, {'text': 'C. 促进文化产业深度合作', 'weight': 25, 'input': False}, {'text': 'D. 培养更多中法文化交流专业人才', 'weight': 25, 'input': False}]}\n",
      "当前题目:对于提升中法文化交流效果，您有哪些其他建议?（可多选）【多选题】\n",
      "多选随机选择答案:[1, 3]\n"
     ]
    },
    {
     "name": "stderr",
     "output_type": "stream",
     "text": [
      "\n",
      "KeyboardInterrupt\n",
      "\n"
     ]
    }
   ],
   "source": [
    "import random\n",
    "from Util.FileUtil import load_json, save_json\n",
    "from Util.drissionpage_util import drissionPage\n",
    "from selenium.webdriver.common.by import By\n",
    "from time import sleep\n",
    "import os\n",
    "import random\n",
    "def get_random_option_by_weight(topic_answer_list, random_count=1):\n",
    "    \"\"\"\n",
    "    根据权重随机选择选项\n",
    "    :param topic_answer_list: 选项列表\n",
    "    :param random_count: 需要选择的数量,默认为1\n",
    "    :return: 选中的选项索引列表（始终返回列表类型）\n",
    "    \"\"\"\n",
    "    # 如果是多选题,随机生成选择数量\n",
    "    if random_count > 1:\n",
    "        random_count = random.randint(1, min(random_count, len(topic_answer_list)))\n",
    "\n",
    "    # 获取所有选项的权重\n",
    "    weights = [option[\"weight\"] for option in topic_answer_list]\n",
    "\n",
    "    # 根据权重随机选择指定数量的选项\n",
    "    selected_options = random.choices(\n",
    "        range(len(topic_answer_list)),\n",
    "        weights=weights,\n",
    "        k=random_count\n",
    "    )\n",
    "\n",
    "    # 去重并排序，始终返回列表\n",
    "    return sorted(list(set(selected_options)))\n",
    "\n",
    "def run(url, count=10):\n",
    "    '''\n",
    "    运行程序\n",
    "    :param topic_data_list: 题目数据列表\n",
    "    :param url: 问卷星地址\n",
    "    :param count: 运行次数,默认为10\n",
    "    '''\n",
    "    drissionPage.driver.get(url)\n",
    "    sleep(1)\n",
    "    if drissionPage.get_element(xpath_kind=By.CLASS_NAME,xpath='layui-layer-btn1',timeout=2):\n",
    "        drissionPage.click_element(xpath_kind=By.CLASS_NAME,xpath='layui-layer-btn1')\n",
    "    name = url.split('/')[-1].split('.')[0]\n",
    "    output_dir = os.path.join(os.getcwd(), \"Output\", f\"data-{name}\")\n",
    "    answer_data_url = os.path.join(os.getcwd(), \"Config\", f\"data-{name}.json\")\n",
    "    if not os.path.exists(answer_data_url):\n",
    "        print(f\"答案数据不存在,请先初始化程序并调整权重\")\n",
    "        return\n",
    "    if not os.path.exists(output_dir):\n",
    "        os.makedirs(output_dir)\n",
    "    topic_data_list = load_json(answer_data_url)\n",
    "    topic_element_list = drissionPage.get_elements(xpath_kind=By.CLASS_NAME, xpath='field ui-field-contain')\n",
    "    answer_records = []\n",
    "    for index,topic_data in enumerate(topic_data_list):\n",
    "        topic_answer_list = topic_data[\"topic-answer-list\"]\n",
    "        print(index, topic_data)\n",
    "        answer_list = topic_element_list[index].eles((By.CLASS_NAME,'label'))\n",
    "        print(f\"当前题目:{topic_data['topic-title']}\")\n",
    "        record = {\n",
    "            \"题目序号\": index + 1,\n",
    "            \"题目标题\": topic_data['topic-title'],\n",
    "            \"选择答案\": [],\n",
    "            \"填空答案\": []\n",
    "        }\n",
    "\n",
    "        if topic_data[\"topic-type\"] == \"4\":\n",
    "            # 多选题\n",
    "            random_index_list = get_random_option_by_weight(topic_answer_list, random_count=2)\n",
    "            record[\"选择答案\"] = random_index_list\n",
    "            print(f\"多选随机选择答案:{random_index_list}\")\n",
    "            for answer_index in random_index_list:\n",
    "                answer_list[answer_index].click()\n",
    "                if topic_answer_list[answer_index][\"input\"]:\n",
    "                    input_text = topic_answer_list[answer_index][\"input-text\"]\n",
    "                    record[\"填空答案\"].extend(input_text)\n",
    "\n",
    "        elif topic_data[\"topic-type\"] == \"3\":\n",
    "            # 单选题\n",
    "            random_index = get_random_option_by_weight(topic_answer_list)[0]\n",
    "            answer_list[random_index].click()\n",
    "            record[\"选择答案\"].append(random_index)\n",
    "            print(f\"单选随机选择答案:{random_index}\")\n",
    "            if topic_answer_list[random_index][\"input\"]:\n",
    "                input_text = topic_answer_list[random_index][\"input-text\"]\n",
    "                record[\"填空答案\"].extend(input_text)\n",
    "\n",
    "        answer_records.append(record)\n",
    "    # break\n",
    "    save_path = save_json(answer_records, os.path.join(output_dir, f\"answer_records_{count}.json\"))\n",
    "    drissionPage.click_element(xpath_kind=By.ID, xpath='ctlNext')\n",
    "    if drissionPage.get_element(xpath_kind=By.ID,xpath='rectMask',timeout=3):\n",
    "        drissionPage.click_element(xpath_kind=By.ID, xpath='rectMask')\n",
    "    if drissionPage.get_element(xpath_kind=By.ID,xpath='divdsc',timeout=3):\n",
    "        print(f\"记录答卷情况到路径:{save_path}\")\n",
    "        run(url, count-1)\n",
    "    else:\n",
    "        print(f\"第{count}次运行失败,重新运行\")\n",
    "        run(url, count)\n",
    "run(url,10)"
   ],
   "metadata": {
    "collapsed": false,
    "pycharm": {
     "name": "#%%\n"
    }
   }
  },
  {
   "cell_type": "code",
   "execution_count": 10,
   "outputs": [
    {
     "data": {
      "text/plain": "<ChromiumElement div class='description check__point-state' id='divdsc'>"
     },
     "execution_count": 10,
     "metadata": {},
     "output_type": "execute_result"
    }
   ],
   "source": [
    "drissionPage.get_element(xpath_kind=By.ID,xpath='divdsc',timeout=3)"
   ],
   "metadata": {
    "collapsed": false,
    "pycharm": {
     "name": "#%%\n"
    }
   }
  },
  {
   "cell_type": "code",
   "execution_count": 43,
   "outputs": [
    {
     "name": "stdout",
     "output_type": "stream",
     "text": [
      "0 {'topic-type': '4', 'topic-title': '您通过哪些途径获取法国文化相关信息?（可多选）【多选题】', 'topic-answer-list': [{'text': 'A. 法国电影、电视剧', 'weight': 25, 'input': False}, {'text': 'B. 法语书籍、报刊', 'weight': 25, 'input': False}, {'text': 'C. 社交媒体平台', 'weight': 25, 'input': False}, {'text': 'D. 学校法语或法国文化课程', 'weight': 25, 'input': False}]}\n",
      "[0, 1, 2]\n",
      "1 {'topic-type': '3', 'topic-title': '您参与过中国面向法国举办的文化推广活动吗?', 'topic-answer-list': [{'text': 'A. 经常参与', 'weight': 25, 'input': False}, {'text': 'B. 偶尔参与', 'weight': 25, 'input': False}, {'text': 'C. 听说过但未参与', 'weight': 25, 'input': False}, {'text': 'D. 从未听说过', 'weight': 25, 'input': False}]}\n",
      "2 {'topic-type': '3', 'topic-title': '在您看来，以下中国文化元素，法国民众对哪项最感兴趣?', 'topic-answer-list': [{'text': 'A. 中医药文化', 'weight': 25, 'input': False}, {'text': 'B. 武术文化', 'weight': 25, 'input': False}, {'text': 'C. 传统节日习俗', 'weight': 25, 'input': False}, {'text': 'D. 中国饮食文化', 'weight': 25, 'input': False}]}\n",
      "3 {'topic-type': '3', 'topic-title': '您参加中法文化交流活动的频率是?', 'topic-answer-list': [{'text': 'A. 每月至少一次', 'weight': 25, 'input': False}, {'text': 'B. 每季度 1 - 2 次', 'weight': 25, 'input': False}, {'text': 'C. 每年 1 - 2 次', 'weight': 25, 'input': False}, {'text': 'D. 几乎不参加', 'weight': 25, 'input': False}]}\n",
      "4 {'topic-type': '4', 'topic-title': '您参与中法文化交流活动的主要动机是什么?（可多选）【多选题】', 'topic-answer-list': [{'text': 'A. 丰富业余生活', 'weight': 20, 'input': False}, {'text': 'B. 深入了解法国文化', 'weight': 20, 'input': False}, {'text': 'C. 助力中法友好往来', 'weight': 20, 'input': False}, {'text': 'D. 提升自身文化素养', 'weight': 20, 'input': False}, {'text': 'E. 活动有吸引力', 'weight': 20, 'input': False}]}\n",
      "[0, 2, 3]\n",
      "5 {'topic-type': '3', 'topic-title': '您觉得当下中法文化线上交流平台内容丰富度如何?', 'topic-answer-list': [{'text': 'A. 非常丰富，能满足多样化需求', 'weight': 25, 'input': False}, {'text': 'B. 比较丰富，还有提升空间', 'weight': 25, 'input': False}, {'text': 'C. 内容较单一', 'weight': 25, 'input': False}, {'text': 'D. 没使用过，不了解', 'weight': 25, 'input': False}]}\n",
      "6 {'topic-type': '3', 'topic-title': '在您看来，中法文化交流活动在促进双方文化融合方面成效如何?', 'topic-answer-list': [{'text': 'A. 成效显著，极大促进了文化融合', 'weight': 25, 'input': False}, {'text': 'B. 有一定成效，但还有提升空间', 'weight': 25, 'input': False}, {'text': 'C. 成效不明显', 'weight': 25, 'input': False}, {'text': 'D. 难以判断', 'weight': 25, 'input': False}]}\n",
      "7 {'topic-type': '4', 'topic-title': '您期望未来中法文化交流增加哪些活动类型?（可多选）【多选题】', 'topic-answer-list': [{'text': 'A. 中法乡村文化交流', 'weight': 25, 'input': False}, {'text': 'B. 中法青年科技文化交流', 'weight': 25, 'input': False}, {'text': 'C. 中法音乐创作交流营', 'weight': 25, 'input': False}, {'text': 'D. 中法历史遗迹保护交流', 'weight': 25, 'input': False}]}\n",
      "[0, 1, 3]\n",
      "8 {'topic-type': '4', 'topic-title': '您认为推动中法文化交流，民间组织应发挥什么作用?（可多选）【多选题】', 'topic-answer-list': [{'text': 'A. 组织中法民间艺术赛事', 'weight': 25, 'input': False}, {'text': 'B. 开展中法家庭互访活动', 'weight': 25, 'input': False}, {'text': 'C. 搭建中法文化交流线上社区', 'weight': 25, 'input': False}, {'text': 'D. 举办中法文化交流公益讲座', 'weight': 25, 'input': False}]}\n",
      "[2, 3]\n",
      "9 {'topic-type': '4', 'topic-title': '对于提升中法文化交流效果，您有哪些其他建议?（可多选）【多选题】', 'topic-answer-list': [{'text': 'A. 优化文化交流活动宣传推广', 'weight': 25, 'input': False}, {'text': 'B. 加大政府资金扶持力度', 'weight': 25, 'input': False}, {'text': 'C. 促进文化产业深度合作', 'weight': 25, 'input': False}, {'text': 'D. 培养更多中法文化交流专业人才', 'weight': 25, 'input': False}]}\n",
      "[0, 1, 2]\n",
      "[{'题目序号': 1, '题目标题': '您通过哪些途径获取法国文化相关信息?（可多选）【多选题】', '选择答案': [0, 1, 2], '填空答案': []}, {'题目序号': 2, '题目标题': '您参与过中国面向法国举办的文化推广活动吗?', '选择答案': [3], '填空答案': []}, {'题目序号': 3, '题目标题': '在您看来，以下中国文化元素，法国民众对哪项最感兴趣?', '选择答案': [2], '填空答案': []}, {'题目序号': 4, '题目标题': '您参加中法文化交流活动的频率是?', '选择答案': [1], '填空答案': []}, {'题目序号': 5, '题目标题': '您参与中法文化交流活动的主要动机是什么?（可多选）【多选题】', '选择答案': [0, 2, 3], '填空答案': []}, {'题目序号': 6, '题目标题': '您觉得当下中法文化线上交流平台内容丰富度如何?', '选择答案': [2], '填空答案': []}, {'题目序号': 7, '题目标题': '在您看来，中法文化交流活动在促进双方文化融合方面成效如何?', '选择答案': [1], '填空答案': []}, {'题目序号': 8, '题目标题': '您期望未来中法文化交流增加哪些活动类型?（可多选）【多选题】', '选择答案': [0, 1, 3], '填空答案': []}, {'题目序号': 9, '题目标题': '您认为推动中法文化交流，民间组织应发挥什么作用?（可多选）【多选题】', '选择答案': [2, 3], '填空答案': []}, {'题目序号': 10, '题目标题': '对于提升中法文化交流效果，您有哪些其他建议?（可多选）【多选题】', '选择答案': [0, 1, 2], '填空答案': []}]\n"
     ]
    }
   ],
   "source": [
    "def run(topic_data_list):\n",
    "    topic_element_list = drissionPage.get_elements(xpath_kind=By.CLASS_NAME, xpath='field ui-field-contain')\n",
    "    answer_records = []\n",
    "    for index,topic_data in enumerate(topic_data_list):\n",
    "        topic_answer_list = topic_data[\"topic-answer-list\"]\n",
    "        answer_list = topic_element_list[index].eles((By.CLASS_NAME,'label'))\n",
    "        print(index,topic_data)\n",
    "        record = {\n",
    "            \"题目序号\": index + 1,\n",
    "            \"题目标题\": topic_data['topic-title'],\n",
    "            \"选择答案\": [],\n",
    "            \"填空答案\": []\n",
    "        }\n",
    "\n",
    "        if topic_data[\"topic-type\"] == \"4\":\n",
    "            # 多选题\n",
    "            random_index_list = get_random_option_by_weight(topic_answer_list, random_count=2)\n",
    "            record[\"选择答案\"] = random_index_list\n",
    "            print(random_index_list)\n",
    "            for answer_index in random_index_list:\n",
    "                answer_list[answer_index].click()\n",
    "                if topic_answer_list[answer_index][\"input\"]:\n",
    "                    input_text = topic_answer_list[answer_index][\"input-text\"]\n",
    "                    record[\"填空答案\"].extend(input_text)\n",
    "\n",
    "        elif topic_data[\"topic-type\"] == \"3\":\n",
    "            # 单选题\n",
    "            random_index = get_random_option_by_weight(topic_answer_list)\n",
    "            answer_list[random_index].click()\n",
    "            record[\"选择答案\"].append(random_index)\n",
    "            if topic_answer_list[random_index][\"input\"]:\n",
    "                input_text = topic_answer_list[random_index][\"input-text\"]\n",
    "                record[\"填空答案\"].extend(input_text)\n",
    "\n",
    "        answer_records.append(record)\n",
    "    print(answer_records)\n",
    "run(topic_data_list)"
   ],
   "metadata": {
    "collapsed": false,
    "pycharm": {
     "name": "#%%\n"
    }
   }
  }
 ],
 "metadata": {
  "kernelspec": {
   "display_name": "Python 3",
   "language": "python",
   "name": "python3"
  },
  "language_info": {
   "codemirror_mode": {
    "name": "ipython",
    "version": 2
   },
   "file_extension": ".py",
   "mimetype": "text/x-python",
   "name": "python",
   "nbconvert_exporter": "python",
   "pygments_lexer": "ipython2",
   "version": "2.7.6"
  }
 },
 "nbformat": 4,
 "nbformat_minor": 0
}